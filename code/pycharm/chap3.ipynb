{
 "cells": [
  {
   "cell_type": "code",
   "execution_count": 1,
   "id": "initial_id",
   "metadata": {
    "collapsed": true,
    "ExecuteTime": {
     "end_time": "2024-04-16T14:51:51.606047Z",
     "start_time": "2024-04-16T14:51:50.851250Z"
    }
   },
   "outputs": [],
   "source": [
    "import numpy as np"
   ]
  },
  {
   "cell_type": "code",
   "outputs": [],
   "source": [
    "x = np.array([2, 4, 6, 8])\n",
    "y = np.array([81, 93, 91, 97])"
   ],
   "metadata": {
    "collapsed": false,
    "ExecuteTime": {
     "end_time": "2024-04-16T14:51:51.672279900Z",
     "start_time": "2024-04-16T14:51:51.519591300Z"
    }
   },
   "id": "281a98b7fbdeff31",
   "execution_count": 2
  },
  {
   "cell_type": "code",
   "outputs": [],
   "source": [
    "mx = np.mean(x)\n",
    "my = np.mean(y)"
   ],
   "metadata": {
    "collapsed": false,
    "ExecuteTime": {
     "end_time": "2024-04-16T14:53:38.913669600Z",
     "start_time": "2024-04-16T14:53:38.837626700Z"
    }
   },
   "id": "e53326e227ff98af",
   "execution_count": 4
  },
  {
   "cell_type": "code",
   "outputs": [],
   "source": [
    "divisor = sum([(i - mx)**2 for i in x])"
   ],
   "metadata": {
    "collapsed": false,
    "ExecuteTime": {
     "end_time": "2024-04-16T15:08:03.568974800Z",
     "start_time": "2024-04-16T15:08:03.558009200Z"
    }
   },
   "id": "ee11f6c6f3e0d3bb",
   "execution_count": 5
  },
  {
   "cell_type": "code",
   "outputs": [],
   "source": [
    "def top(x, mx, y, my):\n",
    "    d = 0\n",
    "    for i in range(len(x)):\n",
    "        d += (x[i]-mx) * (y[i] - my)\n",
    "    return d\n",
    "dividend = top(x, mx, y, my)"
   ],
   "metadata": {
    "collapsed": false,
    "ExecuteTime": {
     "end_time": "2024-04-16T15:08:56.030992600Z",
     "start_time": "2024-04-16T15:08:56.001853900Z"
    }
   },
   "id": "b16c096c0ef3b018",
   "execution_count": 6
  },
  {
   "cell_type": "code",
   "outputs": [],
   "source": [
    "a = dividend / divisor"
   ],
   "metadata": {
    "collapsed": false,
    "ExecuteTime": {
     "end_time": "2024-04-16T15:09:12.738149900Z",
     "start_time": "2024-04-16T15:09:12.711060300Z"
    }
   },
   "id": "eb1d59d25adbf752",
   "execution_count": 7
  },
  {
   "cell_type": "code",
   "outputs": [],
   "source": [
    "b = my - (mx*a)"
   ],
   "metadata": {
    "collapsed": false,
    "ExecuteTime": {
     "end_time": "2024-04-16T15:09:19.337069400Z",
     "start_time": "2024-04-16T15:09:19.317997800Z"
    }
   },
   "id": "fead7a182b8c484c",
   "execution_count": 8
  },
  {
   "cell_type": "code",
   "outputs": [
    {
     "name": "stdout",
     "output_type": "stream",
     "text": [
      "기울기 a =  2.3\n",
      "y 절편 b =  79.0\n"
     ]
    }
   ],
   "source": [
    "print(\"기울기 a = \", a)\n",
    "print(\"y 절편 b = \", b)"
   ],
   "metadata": {
    "collapsed": false,
    "ExecuteTime": {
     "end_time": "2024-04-16T15:09:50.364537900Z",
     "start_time": "2024-04-16T15:09:50.322519200Z"
    }
   },
   "id": "c31ee4726e792145",
   "execution_count": 10
  },
  {
   "cell_type": "code",
   "outputs": [
    {
     "name": "stdout",
     "output_type": "stream",
     "text": [
      "공부시간=2, 실제점수=81, 예측점수=82\n",
      "공부시간=4, 실제점수=93, 예측점수=88\n",
      "공부시간=6, 실제점수=91, 예측점수=94\n",
      "공부시간=8, 실제점수=97, 예측점수=100\n",
      "평균 제곱 오차: 11.0\n"
     ]
    }
   ],
   "source": [
    "fake_a = 3\n",
    "fake_b = 76\n",
    "\n",
    "def predict(x):\n",
    "    return fake_a * x + fake_b\n",
    "\n",
    "predict_result = []\n",
    "\n",
    "for i in range(len(x)):\n",
    "    predict_result.append(predict(x[i]))\n",
    "    print(\"공부시간=%.f, 실제점수=%.f, 예측점수=%.f\" % (x[i], y[i], predict(x[i])))\n",
    "\n",
    "n = len(x)\n",
    "def mse(y, y_pred):\n",
    "    return (1/n) * sum((y - y_pred)**2)\n",
    "\n",
    "print(\"평균 제곱 오차: \" + str(mse(y, predict_result)))"
   ],
   "metadata": {
    "collapsed": false,
    "ExecuteTime": {
     "end_time": "2024-04-16T15:14:23.701947700Z",
     "start_time": "2024-04-16T15:14:23.674189200Z"
    }
   },
   "id": "f1fef37fc7836cef",
   "execution_count": 13
  },
  {
   "cell_type": "code",
   "outputs": [],
   "source": [],
   "metadata": {
    "collapsed": false
   },
   "id": "5a43c0c22be9e140"
  }
 ],
 "metadata": {
  "kernelspec": {
   "display_name": "Python 3",
   "language": "python",
   "name": "python3"
  },
  "language_info": {
   "codemirror_mode": {
    "name": "ipython",
    "version": 2
   },
   "file_extension": ".py",
   "mimetype": "text/x-python",
   "name": "python",
   "nbconvert_exporter": "python",
   "pygments_lexer": "ipython2",
   "version": "2.7.6"
  }
 },
 "nbformat": 4,
 "nbformat_minor": 5
}
